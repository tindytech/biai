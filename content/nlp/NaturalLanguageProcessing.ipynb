{
  "nbformat": 4,
  "nbformat_minor": 0,
  "metadata": {
    "colab": {
      "provenance": [],
      "toc_visible": true
    },
    "kernelspec": {
      "name": "python3",
      "display_name": "Python 3"
    },
    "language_info": {
      "name": "python"
    }
  },
  "cells": [
    {
      "cell_type": "markdown",
      "source": [
        "# Natural Language Processing < Sentiment Analysis />"
      ],
      "metadata": {
        "id": "N5xykDJFhUUU"
      }
    },
    {
      "cell_type": "markdown",
      "source": [
        "In this module, we will work with both Huggingface transformers and LangChain for the task of sentiment analysis."
      ],
      "metadata": {
        "id": "HRtEfa3Chb3t"
      }
    },
    {
      "cell_type": "markdown",
      "source": [
        "## Huggingface"
      ],
      "metadata": {
        "id": "GAi0N1wGkCCl"
      }
    },
    {
      "cell_type": "markdown",
      "source": [
        "### 1) Install Python libraries"
      ],
      "metadata": {
        "id": "R-Dz1dvZpSOI"
      }
    },
    {
      "cell_type": "code",
      "source": [
        "!pip install --no-cache-dir transformers sentencepiece"
      ],
      "metadata": {
        "id": "VJdiF82WiIcB"
      },
      "execution_count": null,
      "outputs": []
    },
    {
      "cell_type": "markdown",
      "source": [
        "### 2) Analysis function\n",
        "\n",
        "Here we define our sentiment analysis function."
      ],
      "metadata": {
        "id": "EyGJ-gQYpY2n"
      }
    },
    {
      "cell_type": "code",
      "source": [
        "from transformers import AutoModelForSequenceClassification\n",
        "from transformers import TFAutoModelForSequenceClassification\n",
        "from transformers import AutoTokenizer, AutoConfig\n",
        "import numpy as np\n",
        "from scipy.special import softmax\n",
        "\n",
        "# Preprocess text (username and link placeholders)\n",
        "def preprocess(text):\n",
        "    new_text = []\n",
        "    for t in text.split(\" \"):\n",
        "        t = '@user' if t.startswith('@') and len(t) > 1 else t\n",
        "        t = 'http' if t.startswith('http') else t\n",
        "        new_text.append(t)\n",
        "    return \" \".join(new_text)\n",
        "\n",
        "MODEL = f\"cardiffnlp/twitter-xlm-roberta-base-sentiment\"\n",
        "\n",
        "tokenizer = AutoTokenizer.from_pretrained(MODEL, use_fast=False)\n",
        "config = AutoConfig.from_pretrained(MODEL)\n",
        "\n",
        "model = AutoModelForSequenceClassification.from_pretrained(MODEL)\n",
        "tokenizer.save_pretrained(MODEL)\n",
        "model.save_pretrained(MODEL)\n",
        "\n",
        "def run_sentiment_analysis(text):\n",
        "  text = preprocess(text)\n",
        "  encoded_input = tokenizer(text, return_tensors='pt')\n",
        "  output = model(**encoded_input)\n",
        "  scores = output[0][0].detach().numpy()\n",
        "  scores = softmax(scores)\n",
        "\n",
        "  # Print labels and scores\n",
        "  ranking = np.argsort(scores)\n",
        "  ranking = ranking[::-1]\n",
        "  print(text)\n",
        "  for i in range(scores.shape[0]):\n",
        "      l = config.id2label[ranking[i]]\n",
        "      s = scores[ranking[i]]\n",
        "      print(f\"{i+1}) {l} {np.round(float(s), 4)}\")\n",
        "  print('')"
      ],
      "metadata": {
        "id": "1KJBovWGhfUC"
      },
      "execution_count": null,
      "outputs": []
    },
    {
      "cell_type": "markdown",
      "source": [
        "### 3) Run sentiment analysis"
      ],
      "metadata": {
        "id": "JskAl22gqCbV"
      }
    },
    {
      "cell_type": "code",
      "source": [
        "run_sentiment_analysis(\"I am not sure.\")\n",
        "run_sentiment_analysis(\"There's a great day ahead of us.\")\n",
        "run_sentiment_analysis(\"Hmm, the stock market did not do very well last week.\")"
      ],
      "metadata": {
        "id": "zwo5zQ7jqFuO"
      },
      "execution_count": null,
      "outputs": []
    },
    {
      "cell_type": "markdown",
      "source": [
        "## OpenAI GPT-3.5\n",
        "\n",
        "In this section we will create and use a sentiment analysis function using OpenAI's GPT-3.5. You'll need an OpenAI developer API key."
      ],
      "metadata": {
        "id": "ILUGdlc0rslH"
      }
    },
    {
      "cell_type": "markdown",
      "source": [
        "### 1) Install Python libraries"
      ],
      "metadata": {
        "id": "-VBDJplVr0G2"
      }
    },
    {
      "cell_type": "code",
      "source": [
        "!pip install openai"
      ],
      "metadata": {
        "id": "vv3kYz-LsD8_"
      },
      "execution_count": null,
      "outputs": []
    },
    {
      "cell_type": "markdown",
      "source": [
        "### 2) Analysis function"
      ],
      "metadata": {
        "id": "aPmpS3OQsH3y"
      }
    },
    {
      "cell_type": "code",
      "source": [
        "import os\n",
        "from openai import OpenAI\n",
        "os.environ['OPENAI_API_KEY'] = 'YOUR_OPENAI_DEVELOPER_API_KEY'\n",
        "client = OpenAI()\n",
        "\n",
        "\n",
        "def run_sentiment_analysis_gpt(text):\n",
        "  completion = client.chat.completions.create(\n",
        "    model=\"gpt-3.5-turbo\",\n",
        "    messages=[\n",
        "      {\"role\": \"system\", \"content\": \"You are going to help me determine the sentiment of a piece of text. You will simply respond with 'positive', 'negative', or 'neutral'.\"},\n",
        "      {\"role\": \"user\", \"content\": text}\n",
        "    ]\n",
        "  )\n",
        "  print(text)\n",
        "  print(completion.choices[0].message.content)\n",
        "  print('')"
      ],
      "metadata": {
        "id": "UFFFJ1UjsKjI"
      },
      "execution_count": null,
      "outputs": []
    },
    {
      "cell_type": "markdown",
      "source": [
        "### 3) Run sentiment analysis"
      ],
      "metadata": {
        "id": "nr2c21nL59aK"
      }
    },
    {
      "cell_type": "code",
      "source": [
        "run_sentiment_analysis_gpt(\"I am not sure.\")\n",
        "run_sentiment_analysis_gpt(\"There's a great day ahead of us.\")\n",
        "run_sentiment_analysis_gpt(\"Hmm, the stock market did not do very well last week.\")"
      ],
      "metadata": {
        "id": "x9j5MpAu5_fQ"
      },
      "execution_count": null,
      "outputs": []
    }
  ]
}